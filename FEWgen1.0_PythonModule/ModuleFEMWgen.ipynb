{
 "cells": [
  {
   "cell_type": "code",
   "execution_count": 1,
   "id": "ff36220f",
   "metadata": {},
   "outputs": [
    {
     "name": "stdout",
     "output_type": "stream",
     "text": [
      "Info) VMD for MACOSXX86_64, version 1.9.4a26 (April 21, 2021)\n",
      "Info) http://www.ks.uiuc.edu/Research/vmd/                         \n",
      "Info) Email questions and bug reports to vmd@ks.uiuc.edu           \n",
      "Info) Please include this reference in published work using VMD:   \n",
      "Info)    Humphrey, W., Dalke, A. and Schulten, K., `VMD - Visual   \n",
      "Info)    Molecular Dynamics', J. Molec. Graphics 1996, 14.1, 33-38.\n",
      "Info) -------------------------------------------------------------\n",
      "Info) Multithreading available, 4 CPUs detected.\n",
      "Warning) Unable to open dynamic library '/Users/macbookpro/miniconda3/envs/vmd/lib/python3.9/site-packages/vmd/plugins/MACOSXX86_64/molfile/netcdfplugin.so'.\n",
      "Warning) dlopen(/Users/macbookpro/miniconda3/envs/vmd/lib/python3.9/site-packages/vmd/plugins/MACOSXX86_64/molfile/netcdfplugin.so, 2): Symbol not found: _H5Pset_fapl_ros3\n",
      "Warning)   Referenced from: /Users/macbookpro/miniconda3/envs/vmd/lib/libnetcdf.19.dylib\n",
      "Warning)   Expected in: /Users/macbookpro/miniconda3/envs/vmd/lib/libhdf5.103.dylib\n",
      "Warning) Unable to dlopen '/Users/macbookpro/miniconda3/envs/vmd/lib/python3.9/site-packages/vmd/plugins/MACOSXX86_64/molfile/netcdfplugin.so':\n",
      "  Unable to dlopen plugin file /Users/macbookpro/miniconda3/envs/vmd/lib/python3.9/site-packages/vmd/plugins/MACOSXX86_64/molfile/netcdfplugin.so\n",
      "\u001b[31m[INFO   ] Please use your check point file to continue your system preparation.\u001b[39m\n"
     ]
    }
   ],
   "source": [
    "import FEMWgenLIB"
   ]
  },
  {
   "cell_type": "code",
   "execution_count": null,
   "id": "c56c29fc",
   "metadata": {},
   "outputs": [],
   "source": [
    "mkw = FEMWgenLIB.MakeWindows(psff=\"sistema.psf\", pdbf=\"sistema.pdb\", Bin=2, lresn=\"POPC POPG\", refprot=\"resname TRP and name CH2\",\n",
    "                   refmemb=\"resname POPC POPG and name P\", rstmemb=\"serial 38224 40079 39148 39811 20055 14892 19787 18877\",\n",
    "                   namdPATH=\"$HOME/Documents/packages/NAMD_2.14_MacOSX-x86_64-multicore/namd2\", nproc=2)\n"
   ]
  },
  {
   "cell_type": "code",
   "execution_count": null,
   "id": "8b66797d",
   "metadata": {},
   "outputs": [],
   "source": [
    "FEMWgenLIB.IO.writrJsonParms(ofile=\"FEMWgen.json\", dic=mkw.__dict__)\n",
    "mkw.__dict__\n"
   ]
  },
  {
   "cell_type": "code",
   "execution_count": null,
   "id": "2cd1b621",
   "metadata": {},
   "outputs": [],
   "source": [
    "mkw.iterateWindows(cfw=-38, seltxt=\"protein\", N=20)"
   ]
  },
  {
   "cell_type": "code",
   "execution_count": null,
   "id": "8cfa8e5b",
   "metadata": {},
   "outputs": [],
   "source": [
    "restart = FEMWgenLIB.RestartWindows()"
   ]
  },
  {
   "cell_type": "code",
   "execution_count": null,
   "id": "b0dd7ebf",
   "metadata": {},
   "outputs": [],
   "source": [
    "windowsOK = restart.get_NotiterateWindows(\"FEMWgen.chkpoint\")\n",
    "windowsOK"
   ]
  },
  {
   "cell_type": "code",
   "execution_count": null,
   "id": "cb471cdc",
   "metadata": {},
   "outputs": [],
   "source": [
    "restart.restart(windowsOK, cfw=-38, seltxt=\"protein\", jsonfile=\"FEMWgen.json\")"
   ]
  },
  {
   "cell_type": "code",
   "execution_count": null,
   "id": "4e94b231",
   "metadata": {},
   "outputs": [],
   "source": [
    "\n"
   ]
  }
 ],
 "metadata": {
  "kernelspec": {
   "display_name": "Python 3 (ipykernel)",
   "language": "python",
   "name": "python3"
  },
  "language_info": {
   "codemirror_mode": {
    "name": "ipython",
    "version": 3
   },
   "file_extension": ".py",
   "mimetype": "text/x-python",
   "name": "python",
   "nbconvert_exporter": "python",
   "pygments_lexer": "ipython3",
   "version": "3.9.13"
  }
 },
 "nbformat": 4,
 "nbformat_minor": 5
}
